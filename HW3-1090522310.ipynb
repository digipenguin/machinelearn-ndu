{
 "cells": [
  {
   "cell_type": "markdown",
   "metadata": {},
   "source": [
    "# Homework3"
   ]
  },
  {
   "cell_type": "markdown",
   "metadata": {},
   "source": [
    "1. 身體質量指數(Body mass index, BMI)是由體重(公斤)除以身高(公尺)的平方，BMI 的分級如下。請撰寫程式由使用者輸入其體重(公斤)及身高(公分)，然後程式印出分級。(分級方式請參閱簡報)"
   ]
  },
  {
   "cell_type": "code",
   "execution_count": 1,
   "metadata": {},
   "outputs": [
    {
     "name": "stdout",
     "output_type": "stream",
     "text": [
      "請輸入體重(公斤): 55\n",
      "請輸入身高(公分): 165\n",
      "BMI is 20.20\n",
      "正常\n"
     ]
    }
   ],
   "source": [
    "# -*- coding: UTF-8 -*-\n",
    "\n",
    "weight = eval(input(\"請輸入體重(公斤): \"))\n",
    "\n",
    "height = eval(input(\"請輸入身高(公分): \"))\n",
    "\n",
    "#計算BMI\n",
    "weightInKilograms = weight\n",
    "heightInMeters = height / 100\n",
    "bmi = weightInKilograms / ( heightInMeters ** 2 )\n",
    "\n",
    "print(\"BMI is\", format(bmi, \".2f\"))\n",
    "if bmi < 18.5:\n",
    "    print(\"體重不足\")\n",
    "elif bmi < 24:\n",
    "    print(\"正常\")\n",
    "elif bmi < 30:\n",
    "    print(\"輕度肥胖\")\n",
    "elif bmi < 35:\n",
    "    print(\"輕度肥胖\")\n",
    "else:\n",
    "    print(\"重度肥胖\")"
   ]
  },
  {
   "cell_type": "markdown",
   "metadata": {},
   "source": [
    "2. 閏年(Leap year)比平年(365 天)多一天，亦即 366 天。判斷閏年的方式如下(任一條件符合均可)：能被 4 整除但不能被 100 整除者/能被 400 整除者。請撰寫一程式，由使用者輸入西元年，程式判斷是否為閏年。"
   ]
  },
  {
   "cell_type": "code",
   "execution_count": 2,
   "metadata": {},
   "outputs": [
    {
     "name": "stdout",
     "output_type": "stream",
     "text": [
      "請輸入年份: 2000\n",
      "2000 是潤年\n"
     ]
    }
   ],
   "source": [
    "year = int(input(\"請輸入年份: \"))\n",
    "if (year % 4) == 0:\n",
    "   if (year % 100) == 0:\n",
    "       if (year % 400) == 0:\n",
    "           print(\"{0} 是潤年\".format(year))\n",
    "       else:\n",
    "           print(\"{0} 不是潤年\".format(year))\n",
    "   else:\n",
    "       print(\"{0} 是潤年\".format(year))\n",
    "else:\n",
    "   print(\"{0} 不是潤年\".format(year))"
   ]
  },
  {
   "cell_type": "markdown",
   "metadata": {},
   "source": [
    "3. 請撰寫一個程式，接受使用者輸入日期，格式為 mm/dd/yyyy (month, day, year)，程式判斷該日期是否正確。例如：09/31/2011 錯誤，因為 9 月只有 30 天；02/29/2011 錯誤，因為 2011 並非閏年。"
   ]
  },
  {
   "cell_type": "code",
   "execution_count": 3,
   "metadata": {},
   "outputs": [
    {
     "name": "stdout",
     "output_type": "stream",
     "text": [
      "Enter the date in format 'mm/dd/yyyy' : 4/31/2019\n",
      "輸入的日期錯誤\n"
     ]
    }
   ],
   "source": [
    "# -*- coding: UTF-8 -*-\n",
    "import datetime\n",
    "\n",
    "inputDate = input(\"Enter the date in format 'mm/dd/yyyy' : \")\n",
    "\n",
    "month,day,year = inputDate.split('/')\n",
    "\n",
    "isValidDate = True\n",
    "try :\n",
    "    datetime.datetime(int(year),int(month),int(day))\n",
    "except ValueError :\n",
    "    isValidDate = False\n",
    "\n",
    "if(isValidDate) :\n",
    "    print (\"輸入的日期正確\")\n",
    "else :\n",
    "    print (\"輸入的日期錯誤\")"
   ]
  },
  {
   "cell_type": "markdown",
   "metadata": {},
   "source": [
    "4. 如果任何大於 2 的正整數 n 為質數，則任何整數 m，2 ≤ m ≤ √𝑛 ，都無法整除 n。請撰寫一程式，由使用者輸入 n，程式判斷其是否為質數。"
   ]
  },
  {
   "cell_type": "code",
   "execution_count": 4,
   "metadata": {},
   "outputs": [
    {
     "name": "stdout",
     "output_type": "stream",
     "text": [
      "請輸入任一數字: 7\n",
      "7 是質數\n"
     ]
    }
   ],
   "source": [
    "# -*- coding: UTF-8 -*-\n",
    "\n",
    "num = int(input(\"請輸入任一數字: \"))\n",
    "\n",
    "\n",
    "if num > 1:\n",
    "\n",
    "    for i in range(2, num):\n",
    "        if (num % i) == 0:\n",
    "            print(num, \"不是質數\")\n",
    "            break\n",
    "    else:\n",
    "        print(num, \"是質數\")\n",
    "\n",
    "else:\n",
    "    print(num, \"不是質數\")"
   ]
  },
  {
   "cell_type": "markdown",
   "metadata": {},
   "source": [
    "5. 修改上述程式，列出所有小於或等於 n 的質數。"
   ]
  },
  {
   "cell_type": "code",
   "execution_count": 5,
   "metadata": {},
   "outputs": [
    {
     "name": "stdout",
     "output_type": "stream",
     "text": [
      "請輸入任一數字: 7\n",
      "2\n",
      "3\n",
      "5\n",
      "7\n"
     ]
    }
   ],
   "source": [
    "# -*- coding: UTF-8 -*-\n",
    "def is_prime(num):\n",
    "    for i in range(2, num):\n",
    "        if num % i == 0:\n",
    "            return False\n",
    "    return True\n",
    "\n",
    "num = int(input('請輸入任一數字: '))  # 得到輸入值 n。\n",
    "\n",
    "for i in range(2, num + 1):   # 產生 2 到 n 的數字。\n",
    "    i_is_prime = is_prime(i)    # 判斷 i 是否為質數。\n",
    "    if i_is_prime:              # 如果是，印出來。\n",
    "        print(i)\n"
   ]
  },
  {
   "cell_type": "code",
   "execution_count": null,
   "metadata": {},
   "outputs": [],
   "source": []
  }
 ],
 "metadata": {
  "kernelspec": {
   "display_name": "Python 3",
   "language": "python",
   "name": "python3"
  },
  "language_info": {
   "codemirror_mode": {
    "name": "ipython",
    "version": 3
   },
   "file_extension": ".py",
   "mimetype": "text/x-python",
   "name": "python",
   "nbconvert_exporter": "python",
   "pygments_lexer": "ipython3",
   "version": "3.7.3"
  }
 },
 "nbformat": 4,
 "nbformat_minor": 2
}
